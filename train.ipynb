{
 "cells": [
  {
   "cell_type": "code",
   "execution_count": null,
   "metadata": {},
   "outputs": [],
   "source": [
    "from glob import glob\n",
    "from pointnet.trainer import Trainer"
   ]
  },
  {
   "cell_type": "code",
   "execution_count": null,
   "metadata": {},
   "outputs": [],
   "source": [
    "configs = {\n",
    "    'wandb-api-key': '4c77a6750a931c1b13d4d10a0e058725a7487ba9',\n",
    "    'experiment-name': 'classification-modelnet10', 'project': 'pointnet',\n",
    "    'train_tfrecord_files': glob('./tfrecords/train*'),\n",
    "    'test_tfrecord_files': glob('./tfrecords/test*'),\n",
    "    'buffer_size': 2048, 'batch_size': 32, 'num_points': 2048, 'n_classes': 10,\n",
    "    'weight_file': 'classification-modelnet10', 'epochs': 50, 'learning-rate': 0.001\n",
    "}"
   ]
  },
  {
   "cell_type": "code",
   "execution_count": null,
   "metadata": {},
   "outputs": [],
   "source": [
    "trainer = Trainer(configs)"
   ]
  },
  {
   "cell_type": "code",
   "execution_count": null,
   "metadata": {},
   "outputs": [],
   "source": []
  }
 ],
 "metadata": {
  "kernelspec": {
   "display_name": "Python 3",
   "language": "python",
   "name": "python3"
  },
  "language_info": {
   "codemirror_mode": {
    "name": "ipython",
    "version": 3
   },
   "file_extension": ".py",
   "mimetype": "text/x-python",
   "name": "python",
   "nbconvert_exporter": "python",
   "pygments_lexer": "ipython3",
   "version": "3.6.8"
  }
 },
 "nbformat": 4,
 "nbformat_minor": 4
}
